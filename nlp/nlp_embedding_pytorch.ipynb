{
  "nbformat": 4,
  "nbformat_minor": 0,
  "metadata": {
    "colab": {
      "provenance": []
    },
    "kernelspec": {
      "name": "python3",
      "display_name": "Python 3"
    },
    "language_info": {
      "name": "python"
    }
  },
  "cells": [
    {
      "cell_type": "markdown",
      "source": [
        "# CREAR UNA RED NEURONAL DE EMBEDDINGS CON PYTORCH"
      ],
      "metadata": {
        "id": "d--Oxaj4ed4M"
      }
    },
    {
      "cell_type": "markdown",
      "source": [
        "# PASO 1 - IMPORTAMOS LIBRERIAS"
      ],
      "metadata": {
        "id": "FXTx6TEmeil0"
      }
    },
    {
      "cell_type": "code",
      "execution_count": 1,
      "metadata": {
        "id": "odaxNjmwVS5D"
      },
      "outputs": [],
      "source": [
        "import torch\n",
        "import torch.nn as nn"
      ]
    },
    {
      "cell_type": "markdown",
      "source": [
        "# PASO 2 - CREAMOS DATASET DE EJEMPLO"
      ],
      "metadata": {
        "id": "SzNGJnO9epyl"
      }
    },
    {
      "cell_type": "code",
      "source": [
        "# Dataset de ejemplo\n",
        "sentences = [\n",
        "    [\"I\", \"love\", \"deep\", \"learning\"],\n",
        "    [\"I\", \"love\", \"machine\", \"learning\"],\n",
        "    [\"deep\", \"learning\", \"is\", \"fun\"]\n",
        "]"
      ],
      "metadata": {
        "id": "N4EE2YTjesvc"
      },
      "execution_count": 2,
      "outputs": []
    },
    {
      "cell_type": "code",
      "source": [
        "# Crear un vocabulario simple\n",
        "vocab = {\"<PAD>\": 0, \"I\": 1, \"love\": 2, \"deep\": 3, \"learning\": 4, \"machine\": 5, \"is\": 6, \"fun\": 7}"
      ],
      "metadata": {
        "id": "fpCMpun3ew1F"
      },
      "execution_count": 3,
      "outputs": []
    },
    {
      "cell_type": "code",
      "source": [
        "# Convertir las palabras a índices en el vocabulario\n",
        "indexed_sentences = [[vocab[word] for word in sentence] for sentence in sentences]"
      ],
      "metadata": {
        "id": "iwksyCL6e0qt"
      },
      "execution_count": 4,
      "outputs": []
    },
    {
      "cell_type": "code",
      "source": [
        "print(\"Indexed sentences:\", indexed_sentences)"
      ],
      "metadata": {
        "colab": {
          "base_uri": "https://localhost:8080/"
        },
        "id": "8cioBL0We2bV",
        "outputId": "fc7ab6c8-679a-4b96-a11c-b271cedd7849"
      },
      "execution_count": 5,
      "outputs": [
        {
          "output_type": "stream",
          "name": "stdout",
          "text": [
            "Indexed sentences: [[1, 2, 3, 4], [1, 2, 5, 4], [3, 4, 6, 7]]\n"
          ]
        }
      ]
    },
    {
      "cell_type": "code",
      "source": [
        "# Parámetros de la capa de embeddings\n",
        "embedding_dim = 8\n",
        "vocab_size = len(vocab)"
      ],
      "metadata": {
        "id": "f7_LTIqBe4g1"
      },
      "execution_count": 6,
      "outputs": []
    },
    {
      "cell_type": "markdown",
      "source": [
        "# CREAMOS UN CAPA PARA LOS EMBEDDINGS"
      ],
      "metadata": {
        "id": "4gR_y9QAe7rs"
      }
    },
    {
      "cell_type": "code",
      "source": [
        "# Crear la capa de embeddings\n",
        "embedding_layer = nn.Embedding(vocab_size, embedding_dim)\n",
        "# Ver los parámetros de la capa de embeddings\n",
        "print(\"Embeddings matrix shape:\", embedding_layer.weight.shape)"
      ],
      "metadata": {
        "colab": {
          "base_uri": "https://localhost:8080/"
        },
        "id": "f6dTxv3qe-4U",
        "outputId": "87960d21-58d9-49c1-d97e-0d28cf766282"
      },
      "execution_count": 7,
      "outputs": [
        {
          "output_type": "stream",
          "name": "stdout",
          "text": [
            "Embeddings matrix shape: torch.Size([8, 8])\n"
          ]
        }
      ]
    },
    {
      "cell_type": "code",
      "source": [
        "# Convertir las frases indexadas en tensores de PyTorch\n",
        "input_tensor = torch.tensor(indexed_sentences)"
      ],
      "metadata": {
        "id": "cl8tqnr5fHVM"
      },
      "execution_count": 8,
      "outputs": []
    },
    {
      "cell_type": "code",
      "source": [
        "# Obtener las representaciones de las palabras\n",
        "embedded_sentences = embedding_layer(input_tensor)"
      ],
      "metadata": {
        "id": "ggTjJI8EfKbU"
      },
      "execution_count": 9,
      "outputs": []
    },
    {
      "cell_type": "code",
      "source": [
        "print(\"Embedded sentences shape:\", embedded_sentences.shape)\n",
        "print(\"Embedded sentences:\", embedded_sentences)"
      ],
      "metadata": {
        "colab": {
          "base_uri": "https://localhost:8080/"
        },
        "id": "9KvddqgQfNAk",
        "outputId": "1a65f8d2-2dea-4ec6-d6c5-57e005507f99"
      },
      "execution_count": 10,
      "outputs": [
        {
          "output_type": "stream",
          "name": "stdout",
          "text": [
            "Embedded sentences shape: torch.Size([3, 4, 8])\n",
            "Embedded sentences: tensor([[[ 1.9598e+00, -8.3978e-01, -6.2272e-01, -1.8037e-01,  5.8631e-01,\n",
            "          -4.8347e-01,  4.9962e-01,  2.1633e-01],\n",
            "         [-2.6413e-01, -1.2024e-01,  1.9054e+00, -4.6415e-02,  8.0756e-01,\n",
            "          -1.2444e+00,  1.4288e+00, -1.4756e+00],\n",
            "         [ 2.0102e+00,  2.5519e+00, -1.4236e+00, -8.2239e-01,  4.1805e-01,\n",
            "          -2.5368e+00,  3.8962e-01, -3.0630e-01],\n",
            "         [-1.2283e+00,  3.1134e-01, -8.0621e-01,  2.0322e-03, -1.8690e-01,\n",
            "          -2.3735e+00, -2.1261e-01,  3.0772e-01]],\n",
            "\n",
            "        [[ 1.9598e+00, -8.3978e-01, -6.2272e-01, -1.8037e-01,  5.8631e-01,\n",
            "          -4.8347e-01,  4.9962e-01,  2.1633e-01],\n",
            "         [-2.6413e-01, -1.2024e-01,  1.9054e+00, -4.6415e-02,  8.0756e-01,\n",
            "          -1.2444e+00,  1.4288e+00, -1.4756e+00],\n",
            "         [-2.1859e+00, -6.9722e-01,  1.2839e+00, -7.7897e-01,  1.5431e+00,\n",
            "           8.4018e-01,  8.3933e-01, -2.1179e+00],\n",
            "         [-1.2283e+00,  3.1134e-01, -8.0621e-01,  2.0322e-03, -1.8690e-01,\n",
            "          -2.3735e+00, -2.1261e-01,  3.0772e-01]],\n",
            "\n",
            "        [[ 2.0102e+00,  2.5519e+00, -1.4236e+00, -8.2239e-01,  4.1805e-01,\n",
            "          -2.5368e+00,  3.8962e-01, -3.0630e-01],\n",
            "         [-1.2283e+00,  3.1134e-01, -8.0621e-01,  2.0322e-03, -1.8690e-01,\n",
            "          -2.3735e+00, -2.1261e-01,  3.0772e-01],\n",
            "         [ 6.0769e-01,  2.0465e-01,  6.2595e-01, -1.1544e+00, -4.0897e-01,\n",
            "           2.7306e-01,  1.2832e+00, -2.7248e-01],\n",
            "         [-1.0866e+00, -1.5247e+00,  6.4825e-01,  9.5074e-01, -1.2632e+00,\n",
            "           6.2095e-01,  2.0316e+00, -8.3819e-01]]],\n",
            "       grad_fn=<EmbeddingBackward0>)\n"
          ]
        }
      ]
    },
    {
      "cell_type": "markdown",
      "source": [
        "# CREAMOS AL RED NEURONAL DE EMBEDDING"
      ],
      "metadata": {
        "id": "IflGJbFafTU0"
      }
    },
    {
      "cell_type": "code",
      "source": [
        "class SimpleModel(nn.Module):\n",
        "  def __init__(self,vocab_size,embedding_dim):\n",
        "    super(SimpleModel,self).__init__()\n",
        "    self.embeddings = nn.Embedding(vocab_size,embedding_dim)\n",
        "    self.fc = nn.Linear(embedding_dim,1) # clasificador básico\n",
        "\n",
        "  def forward(self,x):\n",
        "    x = self.embeddings(x)\n",
        "    x = x.mean(dim=1)\n",
        "    return self.fc(x)"
      ],
      "metadata": {
        "id": "cPXgGZgUfVCs"
      },
      "execution_count": 11,
      "outputs": []
    },
    {
      "cell_type": "markdown",
      "source": [
        "# CONFIGURAMOS EL MODELO DE RED NEURONAL"
      ],
      "metadata": {
        "id": "LjpoT77Df2jN"
      }
    },
    {
      "cell_type": "code",
      "source": [
        "model = SimpleModel(vocab_size,embedding_dim)\n",
        "output = model(input_tensor)\n",
        "print(\"Output model:\", output)\n",
        "print(\"Output shape :\",output.shape)"
      ],
      "metadata": {
        "colab": {
          "base_uri": "https://localhost:8080/"
        },
        "id": "926Bpy5Bf6kW",
        "outputId": "29514064-0639-4838-b552-7133eac5ee02"
      },
      "execution_count": 13,
      "outputs": [
        {
          "output_type": "stream",
          "name": "stdout",
          "text": [
            "Output model: tensor([[ 0.3041],\n",
            "        [ 0.3237],\n",
            "        [-0.0665]], grad_fn=<AddmmBackward0>)\n",
            "Output shape : torch.Size([3, 1])\n"
          ]
        }
      ]
    }
  ]
}