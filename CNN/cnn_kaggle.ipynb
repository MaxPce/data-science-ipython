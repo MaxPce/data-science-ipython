{
  "cells": [
    {
      "cell_type": "markdown",
      "metadata": {
        "id": "eTWtiEodkmZN"
      },
      "source": [
        "# MODELO DE CLASIFICACIÓN DE IMAGENES PARA DETERMINAR NEUMONIA EN PACIENTES CON COVID 19 USANDO REDES NEURONALES CONVOLUCIONALES\n",
        "\n",
        "## DATASET  [KAGGLE](https://www.kaggle.com/datasets/khoongweihao/covid19-xray-dataset-train-test-sets/data)\n"
      ]
    },
    {
      "cell_type": "markdown",
      "metadata": {
        "id": "D4wHcc2Jk_b8"
      },
      "source": [
        "##  LIBRERIAS"
      ]
    },
    {
      "cell_type": "code",
      "execution_count": null,
      "metadata": {
        "id": "730cRhH_kfwb"
      },
      "outputs": [],
      "source": [
        "import numpy as np\n",
        "import pandas as pd\n",
        "import matplotlib.pyplot as plt\n",
        "import seaborn as sns"
      ]
    },
    {
      "cell_type": "code",
      "execution_count": null,
      "metadata": {
        "colab": {
          "base_uri": "https://localhost:8080/"
        },
        "id": "RjjHsEpggQ_O",
        "outputId": "c10efede-cfc8-4d38-ab0d-c5d355de429c"
      },
      "outputs": [
        {
          "name": "stdout",
          "output_type": "stream",
          "text": [
            "Mounted at /content/drive\n"
          ]
        }
      ],
      "source": [
        "from google.colab import drive\n",
        "drive.mount('/content/drive')"
      ]
    },
    {
      "cell_type": "markdown",
      "metadata": {
        "id": "WkYW1FxOlLnA"
      },
      "source": [
        "# PATH DE IMAGENES"
      ]
    },
    {
      "cell_type": "code",
      "execution_count": null,
      "metadata": {
        "colab": {
          "base_uri": "https://localhost:8080/"
        },
        "id": "N0xHzMgrlMYk",
        "outputId": "9d917e85-096f-4d3e-b8c0-422ad2bc20f3"
      },
      "outputs": [
        {
          "name": "stdout",
          "output_type": "stream",
          "text": [
            "/content/drive/MyDrive/Colab Notebooks/MODULO 6/dataset/train\n",
            "/content/drive/MyDrive/Colab Notebooks/MODULO 6/dataset/validation\n",
            "/content/drive/MyDrive/Colab Notebooks/MODULO 6/dataset/test\n"
          ]
        }
      ],
      "source": [
        "import os\n",
        "BASE_DIR = '/content/drive/MyDrive/Colab Notebooks/MODULO 6/dataset'\n",
        "TRAIN_DIR = os.path.join(BASE_DIR, 'train')\n",
        "VALIDATION_DIR = os.path.join(BASE_DIR,'validation')\n",
        "TEST_DIR = os.path.join(BASE_DIR,'test')\n",
        "print(TRAIN_DIR)\n",
        "print(VALIDATION_DIR)\n",
        "print(TEST_DIR)"
      ]
    },
    {
      "cell_type": "code",
      "execution_count": null,
      "metadata": {
        "colab": {
          "base_uri": "https://localhost:8080/"
        },
        "id": "wTtWbodsla5c",
        "outputId": "e57fc8c4-8fca-4663-917e-e2797aa02b34"
      },
      "outputs": [
        {
          "name": "stdout",
          "output_type": "stream",
          "text": [
            "/content/drive/MyDrive/Colab Notebooks/MODULO 6/dataset/train/NORMAL\n",
            "/content/drive/MyDrive/Colab Notebooks/MODULO 6/dataset/train/PNEUMONIA\n",
            "/content/drive/MyDrive/Colab Notebooks/MODULO 6/dataset/validation/NORMAL\n",
            "/content/drive/MyDrive/Colab Notebooks/MODULO 6/dataset/validation/PNEUMONIA\n",
            "/content/drive/MyDrive/Colab Notebooks/MODULO 6/dataset/test/NORMAL\n",
            "/content/drive/MyDrive/Colab Notebooks/MODULO 6/dataset/test/PNEUMONIA\n"
          ]
        }
      ],
      "source": [
        "train_normal_dir = os.path.join(TRAIN_DIR, 'NORMAL')\n",
        "train_pneumonia_dir = os.path.join(TRAIN_DIR, 'PNEUMONIA')\n",
        "\n",
        "validation_normal_dir = os.path.join(VALIDATION_DIR, 'NORMAL')\n",
        "validation_pneumonia_dir = os.path.join(VALIDATION_DIR, 'PNEUMONIA')\n",
        "\n",
        "test_normal_dir = os.path.join(TEST_DIR, 'NORMAL')\n",
        "test_pneumonia_dir = os.path.join(TEST_DIR, 'PNEUMONIA')\n",
        "\n",
        "print(train_normal_dir)\n",
        "print(train_pneumonia_dir)\n",
        "print(validation_normal_dir)\n",
        "print(validation_pneumonia_dir)\n",
        "print(test_normal_dir)\n",
        "print(test_pneumonia_dir)"
      ]
    },
    {
      "cell_type": "code",
      "execution_count": null,
      "metadata": {
        "colab": {
          "base_uri": "https://localhost:8080/",
          "height": 428
        },
        "id": "_8G3W3Shl7Tk",
        "outputId": "76d642d3-a53a-471e-9a29-946ebdfbb733"
      },
      "outputs": [
        {
          "data": {
            "image/png": "[encoded data removed]",
            "text/plain": [
              "<Figure size 640x480 with 1 Axes>"
            ]
          },
          "metadata": {},
          "output_type": "display_data"
        }
      ],
      "source": [
        "from tensorflow.keras.preprocessing import image\n",
        "img = image.load_img(f'{train_normal_dir}/IM-0001-0001.jpeg',target_size=(64,64))\n",
        "plt.imshow(img)\n",
        "plt.title('PLACA NORMAL')\n",
        "plt.axis('off')\n",
        "plt.show()"
      ]
    },
    {
      "cell_type": "markdown",
      "metadata": {
        "id": "FZOv45Fxoprz"
      },
      "source": [
        "# Cantidad de archivos hay en cada carpeta"
      ]
    },
    {
      "cell_type": "code",
      "execution_count": null,
      "metadata": {
        "colab": {
          "base_uri": "https://localhost:8080/"
        },
        "id": "D_uxxfNXorOW",
        "outputId": "9b19016b-5743-4827-ed5e-7da551d43359"
      },
      "outputs": [
        {
          "name": "stdout",
          "output_type": "stream",
          "text": [
            " en directorio :/content/drive/MyDrive/Colab Notebooks/MODULO 6/dataset/train/NORMAL hay 74 imagenes\n",
            " en directorio :/content/drive/MyDrive/Colab Notebooks/MODULO 6/dataset/train/PNEUMONIA hay 74 imagenes\n",
            " en directorio :/content/drive/MyDrive/Colab Notebooks/MODULO 6/dataset/validation/NORMAL hay 10 imagenes\n",
            " en directorio :/content/drive/MyDrive/Colab Notebooks/MODULO 6/dataset/validation/PNEUMONIA hay 10 imagenes\n",
            " en directorio :/content/drive/MyDrive/Colab Notebooks/MODULO 6/dataset/test/NORMAL hay 10 imagenes\n",
            " en directorio :/content/drive/MyDrive/Colab Notebooks/MODULO 6/dataset/test/PNEUMONIA hay 10 imagenes\n"
          ]
        }
      ],
      "source": [
        "dataset_dir = [train_normal_dir,train_pneumonia_dir,validation_normal_dir,validation_pneumonia_dir,test_normal_dir,test_pneumonia_dir]\n",
        "for img_dir in dataset_dir:\n",
        "  print(f\" en directorio :{img_dir} hay {len(os.listdir(img_dir))} imagenes\")"
      ]
    },
    {
      "cell_type": "markdown",
      "metadata": {
        "id": "ZvUu6ECZo6wH"
      },
      "source": [
        "#  VALIDACIÓN Y PRUEBAS"
      ]
    },
    {
      "cell_type": "code",
      "execution_count": null,
      "metadata": {
        "colab": {
          "base_uri": "https://localhost:8080/"
        },
        "id": "a5-VJeWpo7eO",
        "outputId": "bd158ef1-3938-4f23-d703-51c0b9aadc61"
      },
      "outputs": [
        {
          "name": "stdout",
          "output_type": "stream",
          "text": [
            "2.18.0\n"
          ]
        }
      ],
      "source": [
        "import tensorflow as tf\n",
        "print(tf.__version__)"
      ]
    },
    {
      "cell_type": "markdown",
      "metadata": {
        "id": "FR70w8pwo-4t"
      },
      "source": [
        "#  DATA AUGMENTATION"
      ]
    },
    {
      "cell_type": "code",
      "execution_count": null,
      "metadata": {
        "id": "TTRKV0cOo-Mg"
      },
      "outputs": [],
      "source": [
        "from tensorflow.keras.preprocessing.image import ImageDataGenerator\n",
        "train_data = ImageDataGenerator(rescale=1. /255,\n",
        "                                    rotation_range=40,\n",
        "                                    width_shift_range=0.2,\n",
        "                                    height_shift_range=0.2,\n",
        "                                    shear_range=0.2,\n",
        "                                    zoom_range=0.2,\n",
        "                                    horizontal_flip=True)\n",
        "val_data = ImageDataGenerator(rescale=1. /255)\n",
        "test_data = ImageDataGenerator(rescale=1. /255)"
      ]
    },
    {
      "cell_type": "markdown",
      "metadata": {
        "id": "tRfJ63sjpDVH"
      },
      "source": [
        "##  CONJUNTOS DE DATOS CON LOS OBJETOS CREADOS"
      ]
    },
    {
      "cell_type": "code",
      "execution_count": null,
      "metadata": {
        "colab": {
          "base_uri": "https://localhost:8080/"
        },
        "id": "krZTDzq9pEEe",
        "outputId": "e6ec4983-d961-42d2-ae07-52d3c5fcee90"
      },
      "outputs": [
        {
          "name": "stdout",
          "output_type": "stream",
          "text": [
            "Found 148 images belonging to 2 classes.\n",
            "Found 20 images belonging to 2 classes.\n",
            "Found 20 images belonging to 2 classes.\n"
          ]
        }
      ],
      "source": [
        "training_set = train_data.flow_from_directory(\n",
        "    TRAIN_DIR,\n",
        "    target_size=(64,64),\n",
        "    batch_size=32,\n",
        "    class_mode='binary'\n",
        ")\n",
        "validation_set = train_data.flow_from_directory(\n",
        "    VALIDATION_DIR,\n",
        "    target_size=(64,64),\n",
        "    batch_size=20,\n",
        "    class_mode='binary'\n",
        ")\n",
        "test_set = train_data.flow_from_directory(\n",
        "    TEST_DIR,\n",
        "    target_size=(64,64),\n",
        "    class_mode='binary'\n",
        ")"
      ]
    },
    {
      "cell_type": "markdown",
      "metadata": {
        "id": "pVPa0ZBcpIUe"
      },
      "source": [
        "#  RED NEURONAL CONVOLUCIONAL"
      ]
    },
    {
      "cell_type": "code",
      "execution_count": null,
      "metadata": {
        "colab": {
          "base_uri": "https://localhost:8080/",
          "height": 445
        },
        "id": "0fVkQXzspLz5",
        "outputId": "36c89356-13ce-489b-f16f-b20a412f5164"
      },
      "outputs": [
        {
          "name": "stderr",
          "output_type": "stream",
          "text": [
            "/usr/local/lib/python3.11/dist-packages/keras/src/layers/convolutional/base_conv.py:107: UserWarning: Do not pass an `input_shape`/`input_dim` argument to a layer. When using Sequential models, prefer using an `Input(shape)` object as the first layer in the model instead.\n",
            "  super().__init__(activity_regularizer=activity_regularizer, **kwargs)\n"
          ]
        },
        {
          "data": {
            "text/html": [
              "<pre style=\"white-space:pre;overflow-x:auto;line-height:normal;font-family:Menlo,'DejaVu Sans Mono',consolas,'Courier New',monospace\"><span style=\"font-weight: bold\">Model: \"sequential\"</span>\n",
              "</pre>\n"
            ],
            "text/plain": [
              "\u001b[1mModel: \"sequential\"\u001b[0m\n"
            ]
          },
          "metadata": {},
          "output_type": "display_data"
        },
        {
          "data": {
            "text/html": [
              "<pre style=\"white-space:pre;overflow-x:auto;line-height:normal;font-family:Menlo,'DejaVu Sans Mono',consolas,'Courier New',monospace\">┏━━━━━━━━━━━━━━━━━━━━━━━━━━━━━━━━━┳━━━━━━━━━━━━━━━━━━━━━━━━┳━━━━━━━━━━━━━━━┓\n",
              "┃<span style=\"font-weight: bold\"> Layer (type)                    </span>┃<span style=\"font-weight: bold\"> Output Shape           </span>┃<span style=\"font-weight: bold\">       Param # </span>┃\n",
              "┡━━━━━━━━━━━━━━━━━━━━━━━━━━━━━━━━━╇━━━━━━━━━━━━━━━━━━━━━━━━╇━━━━━━━━━━━━━━━┩\n",
              "│ conv2d (<span style=\"color: #0087ff; text-decoration-color: #0087ff\">Conv2D</span>)                 │ (<span style=\"color: #00d7ff; text-decoration-color: #00d7ff\">None</span>, <span style=\"color: #00af00; text-decoration-color: #00af00\">62</span>, <span style=\"color: #00af00; text-decoration-color: #00af00\">62</span>, <span style=\"color: #00af00; text-decoration-color: #00af00\">32</span>)     │           <span style=\"color: #00af00; text-decoration-color: #00af00\">896</span> │\n",
              "├─────────────────────────────────┼────────────────────────┼───────────────┤\n",
              "│ max_pooling2d (<span style=\"color: #0087ff; text-decoration-color: #0087ff\">MaxPooling2D</span>)    │ (<span style=\"color: #00d7ff; text-decoration-color: #00d7ff\">None</span>, <span style=\"color: #00af00; text-decoration-color: #00af00\">31</span>, <span style=\"color: #00af00; text-decoration-color: #00af00\">31</span>, <span style=\"color: #00af00; text-decoration-color: #00af00\">32</span>)     │             <span style=\"color: #00af00; text-decoration-color: #00af00\">0</span> │\n",
              "├─────────────────────────────────┼────────────────────────┼───────────────┤\n",
              "│ conv2d_1 (<span style=\"color: #0087ff; text-decoration-color: #0087ff\">Conv2D</span>)               │ (<span style=\"color: #00d7ff; text-decoration-color: #00d7ff\">None</span>, <span style=\"color: #00af00; text-decoration-color: #00af00\">29</span>, <span style=\"color: #00af00; text-decoration-color: #00af00\">29</span>, <span style=\"color: #00af00; text-decoration-color: #00af00\">32</span>)     │         <span style=\"color: #00af00; text-decoration-color: #00af00\">9,248</span> │\n",
              "├─────────────────────────────────┼────────────────────────┼───────────────┤\n",
              "│ max_pooling2d_1 (<span style=\"color: #0087ff; text-decoration-color: #0087ff\">MaxPooling2D</span>)  │ (<span style=\"color: #00d7ff; text-decoration-color: #00d7ff\">None</span>, <span style=\"color: #00af00; text-decoration-color: #00af00\">14</span>, <span style=\"color: #00af00; text-decoration-color: #00af00\">14</span>, <span style=\"color: #00af00; text-decoration-color: #00af00\">32</span>)     │             <span style=\"color: #00af00; text-decoration-color: #00af00\">0</span> │\n",
              "├─────────────────────────────────┼────────────────────────┼───────────────┤\n",
              "│ flatten (<span style=\"color: #0087ff; text-decoration-color: #0087ff\">Flatten</span>)               │ (<span style=\"color: #00d7ff; text-decoration-color: #00d7ff\">None</span>, <span style=\"color: #00af00; text-decoration-color: #00af00\">6272</span>)           │             <span style=\"color: #00af00; text-decoration-color: #00af00\">0</span> │\n",
              "├─────────────────────────────────┼────────────────────────┼───────────────┤\n",
              "│ dense (<span style=\"color: #0087ff; text-decoration-color: #0087ff\">Dense</span>)                   │ (<span style=\"color: #00d7ff; text-decoration-color: #00d7ff\">None</span>, <span style=\"color: #00af00; text-decoration-color: #00af00\">128</span>)            │       <span style=\"color: #00af00; text-decoration-color: #00af00\">802,944</span> │\n",
              "├─────────────────────────────────┼────────────────────────┼───────────────┤\n",
              "│ dropout (<span style=\"color: #0087ff; text-decoration-color: #0087ff\">Dropout</span>)               │ (<span style=\"color: #00d7ff; text-decoration-color: #00d7ff\">None</span>, <span style=\"color: #00af00; text-decoration-color: #00af00\">128</span>)            │             <span style=\"color: #00af00; text-decoration-color: #00af00\">0</span> │\n",
              "├─────────────────────────────────┼────────────────────────┼───────────────┤\n",
              "│ dense_1 (<span style=\"color: #0087ff; text-decoration-color: #0087ff\">Dense</span>)                 │ (<span style=\"color: #00d7ff; text-decoration-color: #00d7ff\">None</span>, <span style=\"color: #00af00; text-decoration-color: #00af00\">1</span>)              │           <span style=\"color: #00af00; text-decoration-color: #00af00\">129</span> │\n",
              "└─────────────────────────────────┴────────────────────────┴───────────────┘\n",
              "</pre>\n"
            ],
            "text/plain": [
              "┏━━━━━━━━━━━━━━━━━━━━━━━━━━━━━━━━━┳━━━━━━━━━━━━━━━━━━━━━━━━┳━━━━━━━━━━━━━━━┓\n",
              "┃\u001b[1m \u001b[0m\u001b[1mLayer (type)                   \u001b[0m\u001b[1m \u001b[0m┃\u001b[1m \u001b[0m\u001b[1mOutput Shape          \u001b[0m\u001b[1m \u001b[0m┃\u001b[1m \u001b[0m\u001b[1m      Param #\u001b[0m\u001b[1m \u001b[0m┃\n",
              "┡━━━━━━━━━━━━━━━━━━━━━━━━━━━━━━━━━╇━━━━━━━━━━━━━━━━━━━━━━━━╇━━━━━━━━━━━━━━━┩\n",
              "│ conv2d (\u001b[38;5;33mConv2D\u001b[0m)                 │ (\u001b[38;5;45mNone\u001b[0m, \u001b[38;5;34m62\u001b[0m, \u001b[38;5;34m62\u001b[0m, \u001b[38;5;34m32\u001b[0m)     │           \u001b[38;5;34m896\u001b[0m │\n",
              "├─────────────────────────────────┼────────────────────────┼───────────────┤\n",
              "│ max_pooling2d (\u001b[38;5;33mMaxPooling2D\u001b[0m)    │ (\u001b[38;5;45mNone\u001b[0m, \u001b[38;5;34m31\u001b[0m, \u001b[38;5;34m31\u001b[0m, \u001b[38;5;34m32\u001b[0m)     │             \u001b[38;5;34m0\u001b[0m │\n",
              "├─────────────────────────────────┼────────────────────────┼───────────────┤\n",
              "│ conv2d_1 (\u001b[38;5;33mConv2D\u001b[0m)               │ (\u001b[38;5;45mNone\u001b[0m, \u001b[38;5;34m29\u001b[0m, \u001b[38;5;34m29\u001b[0m, \u001b[38;5;34m32\u001b[0m)     │         \u001b[38;5;34m9,248\u001b[0m │\n",
              "├─────────────────────────────────┼────────────────────────┼───────────────┤\n",
              "│ max_pooling2d_1 (\u001b[38;5;33mMaxPooling2D\u001b[0m)  │ (\u001b[38;5;45mNone\u001b[0m, \u001b[38;5;34m14\u001b[0m, \u001b[38;5;34m14\u001b[0m, \u001b[38;5;34m32\u001b[0m)     │             \u001b[38;5;34m0\u001b[0m │\n",
              "├─────────────────────────────────┼────────────────────────┼───────────────┤\n",
              "│ flatten (\u001b[38;5;33mFlatten\u001b[0m)               │ (\u001b[38;5;45mNone\u001b[0m, \u001b[38;5;34m6272\u001b[0m)           │             \u001b[38;5;34m0\u001b[0m │\n",
              "├─────────────────────────────────┼────────────────────────┼───────────────┤\n",
              "│ dense (\u001b[38;5;33mDense\u001b[0m)                   │ (\u001b[38;5;45mNone\u001b[0m, \u001b[38;5;34m128\u001b[0m)            │       \u001b[38;5;34m802,944\u001b[0m │\n",
              "├─────────────────────────────────┼────────────────────────┼───────────────┤\n",
              "│ dropout (\u001b[38;5;33mDropout\u001b[0m)               │ (\u001b[38;5;45mNone\u001b[0m, \u001b[38;5;34m128\u001b[0m)            │             \u001b[38;5;34m0\u001b[0m │\n",
              "├─────────────────────────────────┼────────────────────────┼───────────────┤\n",
              "│ dense_1 (\u001b[38;5;33mDense\u001b[0m)                 │ (\u001b[38;5;45mNone\u001b[0m, \u001b[38;5;34m1\u001b[0m)              │           \u001b[38;5;34m129\u001b[0m │\n",
              "└─────────────────────────────────┴────────────────────────┴───────────────┘\n"
            ]
          },
          "metadata": {},
          "output_type": "display_data"
        },
        {
          "data": {
            "text/html": [
              "<pre style=\"white-space:pre;overflow-x:auto;line-height:normal;font-family:Menlo,'DejaVu Sans Mono',consolas,'Courier New',monospace\"><span style=\"font-weight: bold\"> Total params: </span><span style=\"color: #00af00; text-decoration-color: #00af00\">813,217</span> (3.10 MB)\n",
              "</pre>\n"
            ],
            "text/plain": [
              "\u001b[1m Total params: \u001b[0m\u001b[38;5;34m813,217\u001b[0m (3.10 MB)\n"
            ]
          },
          "metadata": {},
          "output_type": "display_data"
        },
        {
          "data": {
            "text/html": [
              "<pre style=\"white-space:pre;overflow-x:auto;line-height:normal;font-family:Menlo,'DejaVu Sans Mono',consolas,'Courier New',monospace\"><span style=\"font-weight: bold\"> Trainable params: </span><span style=\"color: #00af00; text-decoration-color: #00af00\">813,217</span> (3.10 MB)\n",
              "</pre>\n"
            ],
            "text/plain": [
              "\u001b[1m Trainable params: \u001b[0m\u001b[38;5;34m813,217\u001b[0m (3.10 MB)\n"
            ]
          },
          "metadata": {},
          "output_type": "display_data"
        },
        {
          "data": {
            "text/html": [
              "<pre style=\"white-space:pre;overflow-x:auto;line-height:normal;font-family:Menlo,'DejaVu Sans Mono',consolas,'Courier New',monospace\"><span style=\"font-weight: bold\"> Non-trainable params: </span><span style=\"color: #00af00; text-decoration-color: #00af00\">0</span> (0.00 B)\n",
              "</pre>\n"
            ],
            "text/plain": [
              "\u001b[1m Non-trainable params: \u001b[0m\u001b[38;5;34m0\u001b[0m (0.00 B)\n"
            ]
          },
          "metadata": {},
          "output_type": "display_data"
        }
      ],
      "source": [
        "from keras.models import Sequential\n",
        "from keras.layers import Conv2D,MaxPooling2D,Flatten,Dense,Dropout\n",
        "\n",
        "modelo = Sequential()\n",
        "modelo.add(Conv2D(32,(3,3),activation='relu',input_shape=(64,64,3)))\n",
        "modelo.add(MaxPooling2D((2,2)))\n",
        "modelo.add(Conv2D(32,(3,3),activation='relu'))\n",
        "modelo.add(MaxPooling2D((2,2)))\n",
        "modelo.add(Flatten())\n",
        "modelo.add(Dense(128,activation='relu'))\n",
        "modelo.add(Dropout(0.5))\n",
        "modelo.add(Dense(1,activation='sigmoid'))\n",
        "\n",
        "modelo.summary()"
      ]
    },
    {
      "cell_type": "code",
      "execution_count": null,
      "metadata": {
        "id": "PRcApW9SpS8f"
      },
      "outputs": [],
      "source": [
        "modelo.compile(loss=\"binary_crossentropy\",\n",
        "               optimizer='adam',\n",
        "               metrics=['accuracy'])"
      ]
    },
    {
      "cell_type": "markdown",
      "metadata": {
        "id": "DujSp_yWpVUW"
      },
      "source": [
        "# ENTRENAMIENTO"
      ]
    },
    {
      "cell_type": "code",
      "execution_count": null,
      "metadata": {
        "colab": {
          "base_uri": "https://localhost:8080/"
        },
        "id": "E9j3pvY7pV6m",
        "outputId": "91ddee0b-41a2-4cf5-8b58-c847098ef4e6"
      },
      "outputs": [
        {
          "name": "stderr",
          "output_type": "stream",
          "text": [
            "/usr/local/lib/python3.11/dist-packages/keras/src/trainers/data_adapters/py_dataset_adapter.py:121: UserWarning: Your `PyDataset` class should call `super().__init__(**kwargs)` in its constructor. `**kwargs` can include `workers`, `use_multiprocessing`, `max_queue_size`. Do not pass these arguments to `fit()`, as they will be ignored.\n",
            "  self._warn_if_super_not_called()\n"
          ]
        },
        {
          "name": "stdout",
          "output_type": "stream",
          "text": [
            "Epoch 1/10\n",
            "\u001b[1m5/5\u001b[0m \u001b[32m━━━━━━━━━━━━━━━━━━━━\u001b[0m\u001b[37m\u001b[0m \u001b[1m54s\u001b[0m 10s/step - accuracy: 0.4884 - loss: 0.7175 - val_accuracy: 0.5500 - val_loss: 0.6751\n",
            "Epoch 2/10\n",
            "\u001b[1m5/5\u001b[0m \u001b[32m━━━━━━━━━━━━━━━━━━━━\u001b[0m\u001b[37m\u001b[0m \u001b[1m1s\u001b[0m 200ms/step - accuracy: 0.6092 - loss: 0.6704 - val_accuracy: 0.9500 - val_loss: 0.6303\n",
            "Epoch 3/10\n",
            "\u001b[1m5/5\u001b[0m \u001b[32m━━━━━━━━━━━━━━━━━━━━\u001b[0m\u001b[37m\u001b[0m \u001b[1m1s\u001b[0m 189ms/step - accuracy: 0.6119 - loss: 0.6468 - val_accuracy: 0.9000 - val_loss: 0.5737\n",
            "Epoch 4/10\n",
            "\u001b[1m5/5\u001b[0m \u001b[32m━━━━━━━━━━━━━━━━━━━━\u001b[0m\u001b[37m\u001b[0m \u001b[1m1s\u001b[0m 232ms/step - accuracy: 0.6794 - loss: 0.6383 - val_accuracy: 0.9000 - val_loss: 0.5012\n",
            "Epoch 5/10\n",
            "\u001b[1m5/5\u001b[0m \u001b[32m━━━━━━━━━━━━━━━━━━━━\u001b[0m\u001b[37m\u001b[0m \u001b[1m1s\u001b[0m 156ms/step - accuracy: 0.7343 - loss: 0.5868 - val_accuracy: 0.9500 - val_loss: 0.4037\n",
            "Epoch 6/10\n",
            "\u001b[1m5/5\u001b[0m \u001b[32m━━━━━━━━━━━━━━━━━━━━\u001b[0m\u001b[37m\u001b[0m \u001b[1m1s\u001b[0m 144ms/step - accuracy: 0.6676 - loss: 0.6026 - val_accuracy: 0.7000 - val_loss: 0.5000\n",
            "Epoch 7/10\n",
            "\u001b[1m5/5\u001b[0m \u001b[32m━━━━━━━━━━━━━━━━━━━━\u001b[0m\u001b[37m\u001b[0m \u001b[1m1s\u001b[0m 157ms/step - accuracy: 0.6418 - loss: 0.6501 - val_accuracy: 0.9500 - val_loss: 0.4351\n",
            "Epoch 8/10\n",
            "\u001b[1m5/5\u001b[0m \u001b[32m━━━━━━━━━━━━━━━━━━━━\u001b[0m\u001b[37m\u001b[0m \u001b[1m1s\u001b[0m 153ms/step - accuracy: 0.7654 - loss: 0.5132 - val_accuracy: 0.9500 - val_loss: 0.2961\n",
            "Epoch 9/10\n",
            "\u001b[1m5/5\u001b[0m \u001b[32m━━━━━━━━━━━━━━━━━━━━\u001b[0m\u001b[37m\u001b[0m \u001b[1m1s\u001b[0m 149ms/step - accuracy: 0.8003 - loss: 0.5132 - val_accuracy: 0.9500 - val_loss: 0.2850\n",
            "Epoch 10/10\n",
            "\u001b[1m5/5\u001b[0m \u001b[32m━━━━━━━━━━━━━━━━━━━━\u001b[0m\u001b[37m\u001b[0m \u001b[1m1s\u001b[0m 148ms/step - accuracy: 0.7256 - loss: 0.5142 - val_accuracy: 0.9500 - val_loss: 0.2244\n"
          ]
        }
      ],
      "source": [
        "history = modelo.fit(training_set,epochs=10,batch_size=100,validation_data=validation_set)"
      ]
    },
    {
      "cell_type": "markdown",
      "metadata": {
        "id": "CHeHaLegpbx-"
      },
      "source": [
        "# EVALUACION"
      ]
    },
    {
      "cell_type": "code",
      "execution_count": null,
      "metadata": {
        "colab": {
          "base_uri": "https://localhost:8080/"
        },
        "id": "_YdeodmYpeSs",
        "outputId": "6a64c1df-d735-400f-ae32-646a11a44e87"
      },
      "outputs": [
        {
          "name": "stdout",
          "output_type": "stream",
          "text": [
            "\u001b[1m1/1\u001b[0m \u001b[32m━━━━━━━━━━━━━━━━━━━━\u001b[0m\u001b[37m\u001b[0m \u001b[1m0s\u001b[0m 116ms/step - accuracy: 0.9500 - loss: 0.1862\n",
            "[0.1861688643693924, 0.949999988079071]\n"
          ]
        }
      ],
      "source": [
        "evaluacion = modelo.evaluate(test_set)\n",
        "print(evaluacion)"
      ]
    },
    {
      "cell_type": "markdown",
      "metadata": {
        "id": "CjCiMjsapgTp"
      },
      "source": [
        "#  PREDICCIÓN DEL MODELO"
      ]
    },
    {
      "cell_type": "code",
      "execution_count": null,
      "metadata": {
        "colab": {
          "base_uri": "https://localhost:8080/",
          "height": 480
        },
        "id": "CNsMoaN_pg3_",
        "outputId": "ab6683be-fc99-455f-b5a9-26120fe1cfdd"
      },
      "outputs": [
        {
          "name": "stdout",
          "output_type": "stream",
          "text": [
            "\u001b[1m1/1\u001b[0m \u001b[32m━━━━━━━━━━━━━━━━━━━━\u001b[0m\u001b[37m\u001b[0m \u001b[1m0s\u001b[0m 442ms/step\n",
            "predicción :  [[1.]]\n",
            "tiene pneumonia\n"
          ]
        },
        {
          "data": {
            "image/png": "[encoded data removed]",
            "text/plain": [
              "<Figure size 640x480 with 1 Axes>"
            ]
          },
          "metadata": {},
          "output_type": "display_data"
        }
      ],
      "source": [
        "from keras.preprocessing import image\n",
        "normal = image.load_img(test_normal_dir + \"/NORMAL2-IM-0035-0001.jpeg\",target_size=(64,64))\n",
        "pneumonia = image.load_img(test_pneumonia_dir + \"/SARS-10.1148rg.242035193-g04mr34g0-Fig8a-day0.jpeg\",target_size=(64,64))\n",
        "imagen_prueba = pneumonia\n",
        "\n",
        "test_image = image.img_to_array(imagen_prueba)\n",
        "test_image = np.expand_dims(test_image,axis=0)\n",
        "training_set.class_indices\n",
        "\n",
        "\n",
        "result = modelo.predict(test_image)\n",
        "print(\"predicción : \",result)\n",
        "if result[0][0] == 0:\n",
        "  print(\"es normal\")\n",
        "  plt.imshow(imagen_prueba)\n",
        "  plt.title('Normal')\n",
        "  plt.axis('off')\n",
        "  plt.show()\n",
        "else:\n",
        "  print(\"tiene pneumonia\")\n",
        "  plt.imshow(imagen_prueba)\n",
        "  plt.title('PNEUMONIA')\n",
        "  plt.axis('off')\n",
        "  plt.show()"
      ]
    },
    {
      "cell_type": "markdown",
      "metadata": {
        "id": "p7-FWyPaqZbe"
      },
      "source": [
        "# GRAFICO ACCURACY Y LOSS"
      ]
    },
    {
      "cell_type": "code",
      "execution_count": null,
      "metadata": {
        "colab": {
          "base_uri": "https://localhost:8080/",
          "height": 453
        },
        "id": "LJIJSISAqbDG",
        "outputId": "ed132753-269d-42d6-9814-2f8aad139137"
      },
      "outputs": [
        {
          "data": {
            "image/png": "[encoded data removed]",
            "text/plain": [
              "<Figure size 640x480 with 1 Axes>"
            ]
          },
          "metadata": {},
          "output_type": "display_data"
        }
      ],
      "source": [
        "acc = history.history['accuracy']\n",
        "val_acc = history.history['val_loss']\n",
        "epochs = range(1,len(acc)+1)\n",
        "\n",
        "plt.plot(epochs,acc,'bo',label='Training Acc')\n",
        "plt.plot(epochs,val_acc,'b',label='Validation Acc')\n",
        "plt.title('Precisión en validación y entrenamiento')\n",
        "plt.legend()\n",
        "plt.show()"
      ]
    },
    {
      "cell_type": "code",
      "execution_count": null,
      "metadata": {
        "colab": {
          "base_uri": "https://localhost:8080/",
          "height": 453
        },
        "id": "wkh3ZWfcqd7-",
        "outputId": "35c1fe9d-b1d7-4848-bc79-e38f71a5dc97"
      },
      "outputs": [
        {
          "data": {
            "image/png": "[encoded data removed]",
            "text/plain": [
              "<Figure size 640x480 with 1 Axes>"
            ]
          },
          "metadata": {},
          "output_type": "display_data"
        }
      ],
      "source": [
        "loss = history.history['loss']\n",
        "val_loss = history.history['val_loss']\n",
        "epochs = range(1,len(acc)+1)\n",
        "\n",
        "plt.plot(epochs,loss,'bo',label='Training Loss')\n",
        "plt.plot(epochs,val_loss,'b',label='Validation Loss')\n",
        "plt.title('Pérdida en validación y entrenamiento')\n",
        "plt.legend()\n",
        "plt.show()"
      ]
    }
  ],
  "metadata": {
    "accelerator": "GPU",
    "colab": {
      "gpuType": "T4",
      "provenance": []
    },
    "kernelspec": {
      "display_name": "Python 3",
      "name": "python3"
    },
    "language_info": {
      "name": "python"
    }
  },
  "nbformat": 4,
  "nbformat_minor": 0
}
